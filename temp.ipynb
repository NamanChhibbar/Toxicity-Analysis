{
 "cells": [
  {
   "cell_type": "code",
   "execution_count": 3,
   "metadata": {},
   "outputs": [],
   "source": [
    "import numpy as np, pandas as pd, torch, matplotlib.pyplot as plt, os\n",
    "from torch.utils.data import DataLoader, TensorDataset, Dataset\n",
    "from transformers import DistilBertTokenizer, DistilBertForSequenceClassification\n",
    "from statsmodels.tsa.arima.model import ARIMA\n",
    "from statsmodels.graphics.tsaplots import plot_acf, plot_pacf"
   ]
  },
  {
   "cell_type": "code",
   "execution_count": 2,
   "metadata": {},
   "outputs": [
    {
     "name": "stderr",
     "output_type": "stream",
     "text": [
      "Some weights of DistilBertForSequenceClassification were not initialized from the model checkpoint at distilbert-base-uncased and are newly initialized: ['classifier.bias', 'pre_classifier.weight', 'classifier.weight', 'pre_classifier.bias']\n",
      "You should probably TRAIN this model on a down-stream task to be able to use it for predictions and inference.\n"
     ]
    }
   ],
   "source": [
    "CHECKPOINT = \"distilbert-base-uncased\"\n",
    "\n",
    "tokenizer = DistilBertTokenizer.from_pretrained(CHECKPOINT)\n",
    "model = DistilBertForSequenceClassification.from_pretrained(CHECKPOINT)"
   ]
  },
  {
   "cell_type": "code",
   "execution_count": 3,
   "metadata": {},
   "outputs": [],
   "source": [
    "inps = torch.tensor([\n",
    "    [1, 2, 3, 4],\n",
    "    [4, 5, 6, 7],\n",
    "    [1, 2, 3, 4]\n",
    "])\n",
    "\n",
    "labels = torch.tensor([1, 0, 1])\n",
    "\n",
    "mask = torch.tensor([\n",
    "    [1, 1, 1, 0],\n",
    "    [1, 1, 0, 0],\n",
    "    [1, 1, 1, 1]\n",
    "])"
   ]
  },
  {
   "cell_type": "code",
   "execution_count": 4,
   "metadata": {},
   "outputs": [],
   "source": [
    "class MyDataset(Dataset):\n",
    "    def __init__(self, data, labels):\n",
    "        super().__init__()\n",
    "        self.data = data\n",
    "        self.labels = labels\n",
    "    \n",
    "    def __len__(self):\n",
    "        return len(self.data)\n",
    "    \n",
    "    def __getitem__(self, index):\n",
    "        return self.data[index], self.labels[index]"
   ]
  },
  {
   "cell_type": "code",
   "execution_count": 5,
   "metadata": {},
   "outputs": [],
   "source": [
    "DATA_DIR = \"/Users/naman/Desktop/Code/ThesisData/Labeled_data\"\n",
    "FILES = [\n",
    "    \"1coviddetoxify0.5.csv\",\n",
    "    \"Andhbhaktafterdetoxify.csv\",\n",
    "    \"GobackModifinallabels1.csv\",\n",
    "    \"Gyanvapiafterdetoxifyandcorrectedlabels.csv\",\n",
    "    \"indianmusafterdetoxify-1.csv\",\n",
    "    \"indianmusafterdetoxify.csv\"\n",
    "]"
   ]
  },
  {
   "cell_type": "code",
   "execution_count": 6,
   "metadata": {},
   "outputs": [],
   "source": [
    "covid_df = pd.read_csv(f\"{DATA_DIR}/{FILES[0]}\")\n",
    "andh_df = pd.read_csv(f\"{DATA_DIR}/{FILES[1]}\")"
   ]
  },
  {
   "cell_type": "code",
   "execution_count": 7,
   "metadata": {},
   "outputs": [
    {
     "data": {
      "text/html": [
       "<div>\n",
       "<style scoped>\n",
       "    .dataframe tbody tr th:only-of-type {\n",
       "        vertical-align: middle;\n",
       "    }\n",
       "\n",
       "    .dataframe tbody tr th {\n",
       "        vertical-align: top;\n",
       "    }\n",
       "\n",
       "    .dataframe thead th {\n",
       "        text-align: right;\n",
       "    }\n",
       "</style>\n",
       "<table border=\"1\" class=\"dataframe\">\n",
       "  <thead>\n",
       "    <tr style=\"text-align: right;\">\n",
       "      <th></th>\n",
       "      <th>author_id</th>\n",
       "      <th>username</th>\n",
       "      <th>author_followers</th>\n",
       "      <th>author_tweets</th>\n",
       "      <th>author_description</th>\n",
       "      <th>author_location</th>\n",
       "      <th>text</th>\n",
       "      <th>created_at</th>\n",
       "      <th>retweets</th>\n",
       "      <th>replies</th>\n",
       "      <th>likes</th>\n",
       "      <th>quote_count</th>\n",
       "      <th>manual_label</th>\n",
       "      <th>language</th>\n",
       "      <th>Predicted Label</th>\n",
       "      <th>Toxicity Score</th>\n",
       "    </tr>\n",
       "  </thead>\n",
       "  <tbody>\n",
       "    <tr>\n",
       "      <th>0</th>\n",
       "      <td>3.509657e+07</td>\n",
       "      <td>morr2theleft</td>\n",
       "      <td>914</td>\n",
       "      <td>1409</td>\n",
       "      <td>Anarchist. No gods no masters on this burning ...</td>\n",
       "      <td>Portland, OR</td>\n",
       "      <td>Just got bills for $375 in addition to the $55...</td>\n",
       "      <td>2021-01-20 23:58:43+00:00</td>\n",
       "      <td>2</td>\n",
       "      <td>0</td>\n",
       "      <td>5</td>\n",
       "      <td>0</td>\n",
       "      <td>1.0</td>\n",
       "      <td>en</td>\n",
       "      <td>1</td>\n",
       "      <td>0.976667</td>\n",
       "    </tr>\n",
       "    <tr>\n",
       "      <th>1</th>\n",
       "      <td>3.505029e+07</td>\n",
       "      <td>mopsnicole</td>\n",
       "      <td>282</td>\n",
       "      <td>8921</td>\n",
       "      <td>pugs~tim burton~virgo☀️~taurus🌙~cap⬆️</td>\n",
       "      <td>NaN</td>\n",
       "      <td>I never really thought speaking out about my c...</td>\n",
       "      <td>2021-01-20 23:58:16+00:00</td>\n",
       "      <td>0</td>\n",
       "      <td>2</td>\n",
       "      <td>7</td>\n",
       "      <td>0</td>\n",
       "      <td>0.0</td>\n",
       "      <td>en</td>\n",
       "      <td>0</td>\n",
       "      <td>0.335981</td>\n",
       "    </tr>\n",
       "    <tr>\n",
       "      <th>2</th>\n",
       "      <td>1.240000e+18</td>\n",
       "      <td>jj0nggg</td>\n",
       "      <td>362</td>\n",
       "      <td>4688</td>\n",
       "      <td>19 learning 한국어! sh gemini 🧊🇺🇸💗</td>\n",
       "      <td>NaN</td>\n",
       "      <td>@M4SQUER4D3 I WISH I WAS STILL ON ONLINE SCHOO...</td>\n",
       "      <td>2021-01-20 23:57:18+00:00</td>\n",
       "      <td>0</td>\n",
       "      <td>0</td>\n",
       "      <td>0</td>\n",
       "      <td>0</td>\n",
       "      <td>1.0</td>\n",
       "      <td>en</td>\n",
       "      <td>1</td>\n",
       "      <td>0.584002</td>\n",
       "    </tr>\n",
       "    <tr>\n",
       "      <th>3</th>\n",
       "      <td>1.160000e+18</td>\n",
       "      <td>YIndigence</td>\n",
       "      <td>44</td>\n",
       "      <td>7412</td>\n",
       "      <td>Think about the things that annoy you most in ...</td>\n",
       "      <td>NaN</td>\n",
       "      <td>@jjonezy1983 @randomyoko \"Gas prices have been...</td>\n",
       "      <td>2021-01-20 23:56:20+00:00</td>\n",
       "      <td>0</td>\n",
       "      <td>2</td>\n",
       "      <td>0</td>\n",
       "      <td>0</td>\n",
       "      <td>0.0</td>\n",
       "      <td>en</td>\n",
       "      <td>0</td>\n",
       "      <td>0.017517</td>\n",
       "    </tr>\n",
       "    <tr>\n",
       "      <th>4</th>\n",
       "      <td>7.220000e+17</td>\n",
       "      <td>thatfishbitch75</td>\n",
       "      <td>1408</td>\n",
       "      <td>26491</td>\n",
       "      <td>🏳️‍🌈🏳️‍⚧️| 19 | they/it/he | @squiggle64 is ki...</td>\n",
       "      <td>NaN</td>\n",
       "      <td>// politics , trump - -I little hate when poli...</td>\n",
       "      <td>2021-01-20 23:55:02+00:00</td>\n",
       "      <td>0</td>\n",
       "      <td>2</td>\n",
       "      <td>3</td>\n",
       "      <td>0</td>\n",
       "      <td>0.0</td>\n",
       "      <td>en</td>\n",
       "      <td>0</td>\n",
       "      <td>0.146278</td>\n",
       "    </tr>\n",
       "  </tbody>\n",
       "</table>\n",
       "</div>"
      ],
      "text/plain": [
       "      author_id         username  author_followers  author_tweets  \\\n",
       "0  3.509657e+07     morr2theleft               914           1409   \n",
       "1  3.505029e+07       mopsnicole               282           8921   \n",
       "2  1.240000e+18          jj0nggg               362           4688   \n",
       "3  1.160000e+18       YIndigence                44           7412   \n",
       "4  7.220000e+17  thatfishbitch75              1408          26491   \n",
       "\n",
       "                                  author_description author_location  \\\n",
       "0  Anarchist. No gods no masters on this burning ...    Portland, OR   \n",
       "1              pugs~tim burton~virgo☀️~taurus🌙~cap⬆️             NaN   \n",
       "2                    19 learning 한국어! sh gemini 🧊🇺🇸💗             NaN   \n",
       "3  Think about the things that annoy you most in ...             NaN   \n",
       "4  🏳️‍🌈🏳️‍⚧️| 19 | they/it/he | @squiggle64 is ki...             NaN   \n",
       "\n",
       "                                                text  \\\n",
       "0  Just got bills for $375 in addition to the $55...   \n",
       "1  I never really thought speaking out about my c...   \n",
       "2  @M4SQUER4D3 I WISH I WAS STILL ON ONLINE SCHOO...   \n",
       "3  @jjonezy1983 @randomyoko \"Gas prices have been...   \n",
       "4  // politics , trump - -I little hate when poli...   \n",
       "\n",
       "                  created_at  retweets  replies  likes  quote_count  \\\n",
       "0  2021-01-20 23:58:43+00:00         2        0      5            0   \n",
       "1  2021-01-20 23:58:16+00:00         0        2      7            0   \n",
       "2  2021-01-20 23:57:18+00:00         0        0      0            0   \n",
       "3  2021-01-20 23:56:20+00:00         0        2      0            0   \n",
       "4  2021-01-20 23:55:02+00:00         0        2      3            0   \n",
       "\n",
       "   manual_label language  Predicted Label  Toxicity Score  \n",
       "0           1.0       en                1        0.976667  \n",
       "1           0.0       en                0        0.335981  \n",
       "2           1.0       en                1        0.584002  \n",
       "3           0.0       en                0        0.017517  \n",
       "4           0.0       en                0        0.146278  "
      ]
     },
     "execution_count": 7,
     "metadata": {},
     "output_type": "execute_result"
    }
   ],
   "source": [
    "covid_df.head()"
   ]
  },
  {
   "cell_type": "code",
   "execution_count": 27,
   "metadata": {},
   "outputs": [
    {
     "data": {
      "text/plain": [
       "author_id\n",
       "1.330000e+18    20\n",
       "1.350000e+18    18\n",
       "1.270000e+18    18\n",
       "1.280000e+18    17\n",
       "1.320000e+18    16\n",
       "Name: count, dtype: int64"
      ]
     },
     "execution_count": 27,
     "metadata": {},
     "output_type": "execute_result"
    }
   ],
   "source": [
    "covid_df[\"author_id\"].value_counts().head()"
   ]
  },
  {
   "cell_type": "code",
   "execution_count": 10,
   "metadata": {},
   "outputs": [
    {
     "data": {
      "text/plain": [
       "'4 years ago we had a healthy economy, sparse domestic threats and a stable democracy.Trump brought us a dark recession, 400,000 COVID deaths, white supremacists rallies, massive spike in hate crimes and a deadly failed coup.Trump promised American Carnage and he delivered.'"
      ]
     },
     "execution_count": 10,
     "metadata": {},
     "output_type": "execute_result"
    }
   ],
   "source": [
    "filt = covid_df[\"likes\"] > 1000\n",
    "\n",
    "covid_df[filt].iloc[0][\"text\"]"
   ]
  },
  {
   "cell_type": "code",
   "execution_count": 16,
   "metadata": {},
   "outputs": [
    {
     "data": {
      "text/html": [
       "<div>\n",
       "<style scoped>\n",
       "    .dataframe tbody tr th:only-of-type {\n",
       "        vertical-align: middle;\n",
       "    }\n",
       "\n",
       "    .dataframe tbody tr th {\n",
       "        vertical-align: top;\n",
       "    }\n",
       "\n",
       "    .dataframe thead th {\n",
       "        text-align: right;\n",
       "    }\n",
       "</style>\n",
       "<table border=\"1\" class=\"dataframe\">\n",
       "  <thead>\n",
       "    <tr style=\"text-align: right;\">\n",
       "      <th></th>\n",
       "      <th>author_id</th>\n",
       "      <th>username</th>\n",
       "      <th>author_followers</th>\n",
       "      <th>author_tweets</th>\n",
       "      <th>author_description</th>\n",
       "      <th>author_location</th>\n",
       "      <th>text</th>\n",
       "      <th>created_at</th>\n",
       "      <th>retweets</th>\n",
       "      <th>replies</th>\n",
       "      <th>likes</th>\n",
       "      <th>quote_count</th>\n",
       "      <th>Predicted Label</th>\n",
       "      <th>manual_label</th>\n",
       "      <th>Toxicity Score</th>\n",
       "    </tr>\n",
       "  </thead>\n",
       "  <tbody>\n",
       "    <tr>\n",
       "      <th>0</th>\n",
       "      <td>2.184026e+09</td>\n",
       "      <td>FairozKing</td>\n",
       "      <td>3</td>\n",
       "      <td>774</td>\n",
       "      <td>Indian, Secular, Nationalist,</td>\n",
       "      <td>Bangalore</td>\n",
       "      <td>@AnupamPKher #AndhBhakt</td>\n",
       "      <td>2022-05-20 21:39:38+00:00</td>\n",
       "      <td>0</td>\n",
       "      <td>0</td>\n",
       "      <td>0</td>\n",
       "      <td>0</td>\n",
       "      <td>0</td>\n",
       "      <td>0.0</td>\n",
       "      <td>0.000413</td>\n",
       "    </tr>\n",
       "    <tr>\n",
       "      <th>1</th>\n",
       "      <td>7.984403e+17</td>\n",
       "      <td>BipBopBuu</td>\n",
       "      <td>2069</td>\n",
       "      <td>7533</td>\n",
       "      <td>1•1•1•1</td>\n",
       "      <td>In transit</td>\n",
       "      <td>This is Modistroke!#AndhBhakt https://t.co/vRP...</td>\n",
       "      <td>2022-05-20 20:59:26+00:00</td>\n",
       "      <td>0</td>\n",
       "      <td>0</td>\n",
       "      <td>0</td>\n",
       "      <td>0</td>\n",
       "      <td>0</td>\n",
       "      <td>0.0</td>\n",
       "      <td>0.000886</td>\n",
       "    </tr>\n",
       "    <tr>\n",
       "      <th>2</th>\n",
       "      <td>2.212610e+09</td>\n",
       "      <td>jbhandle4u</td>\n",
       "      <td>119</td>\n",
       "      <td>80244</td>\n",
       "      <td>to the point...</td>\n",
       "      <td>India</td>\n",
       "      <td>@CGattani @supriya_sule Still u will remain an...</td>\n",
       "      <td>2022-05-20 20:09:07+00:00</td>\n",
       "      <td>0</td>\n",
       "      <td>1</td>\n",
       "      <td>1</td>\n",
       "      <td>0</td>\n",
       "      <td>1</td>\n",
       "      <td>1.0</td>\n",
       "      <td>0.824712</td>\n",
       "    </tr>\n",
       "    <tr>\n",
       "      <th>3</th>\n",
       "      <td>1.468152e+18</td>\n",
       "      <td>PopatMaster786</td>\n",
       "      <td>2537</td>\n",
       "      <td>57261</td>\n",
       "      <td>कुछ दिन तो गुजारिए ट्विटर पर साथ में😏मजा ना आए...</td>\n",
       "      <td>यत्र तत्र सर्वत्र</td>\n",
       "      <td>@Andhbhakt_Elly https://t.co/Nve5CVrJ7e</td>\n",
       "      <td>2022-05-20 20:04:13+00:00</td>\n",
       "      <td>0</td>\n",
       "      <td>0</td>\n",
       "      <td>0</td>\n",
       "      <td>0</td>\n",
       "      <td>0</td>\n",
       "      <td>0.0</td>\n",
       "      <td>0.000402</td>\n",
       "    </tr>\n",
       "    <tr>\n",
       "      <th>4</th>\n",
       "      <td>8.792428e+17</td>\n",
       "      <td>Raj_poot23</td>\n",
       "      <td>1279</td>\n",
       "      <td>9820</td>\n",
       "      <td>You can let your smile change people but don't...</td>\n",
       "      <td>प्रतापगढ़,लखनऊ, भारत🇮🇳</td>\n",
       "      <td>@Andhbhakt_Elly 😂😂🚩🙏</td>\n",
       "      <td>2022-05-20 20:00:01+00:00</td>\n",
       "      <td>0</td>\n",
       "      <td>0</td>\n",
       "      <td>2</td>\n",
       "      <td>0</td>\n",
       "      <td>0</td>\n",
       "      <td>0.0</td>\n",
       "      <td>0.000388</td>\n",
       "    </tr>\n",
       "  </tbody>\n",
       "</table>\n",
       "</div>"
      ],
      "text/plain": [
       "      author_id        username  author_followers  author_tweets  \\\n",
       "0  2.184026e+09      FairozKing                 3            774   \n",
       "1  7.984403e+17       BipBopBuu              2069           7533   \n",
       "2  2.212610e+09      jbhandle4u               119          80244   \n",
       "3  1.468152e+18  PopatMaster786              2537          57261   \n",
       "4  8.792428e+17      Raj_poot23              1279           9820   \n",
       "\n",
       "                                  author_description         author_location  \\\n",
       "0                      Indian, Secular, Nationalist,               Bangalore   \n",
       "1                                            1•1•1•1              In transit   \n",
       "2                                    to the point...                   India   \n",
       "3  कुछ दिन तो गुजारिए ट्विटर पर साथ में😏मजा ना आए...       यत्र तत्र सर्वत्र   \n",
       "4  You can let your smile change people but don't...  प्रतापगढ़,लखनऊ, भारत🇮🇳   \n",
       "\n",
       "                                                text  \\\n",
       "0                            @AnupamPKher #AndhBhakt   \n",
       "1  This is Modistroke!#AndhBhakt https://t.co/vRP...   \n",
       "2  @CGattani @supriya_sule Still u will remain an...   \n",
       "3            @Andhbhakt_Elly https://t.co/Nve5CVrJ7e   \n",
       "4                               @Andhbhakt_Elly 😂😂🚩🙏   \n",
       "\n",
       "                  created_at  retweets  replies  likes  quote_count  \\\n",
       "0  2022-05-20 21:39:38+00:00         0        0      0            0   \n",
       "1  2022-05-20 20:59:26+00:00         0        0      0            0   \n",
       "2  2022-05-20 20:09:07+00:00         0        1      1            0   \n",
       "3  2022-05-20 20:04:13+00:00         0        0      0            0   \n",
       "4  2022-05-20 20:00:01+00:00         0        0      2            0   \n",
       "\n",
       "   Predicted Label  manual_label  Toxicity Score  \n",
       "0                0           0.0        0.000413  \n",
       "1                0           0.0        0.000886  \n",
       "2                1           1.0        0.824712  \n",
       "3                0           0.0        0.000402  \n",
       "4                0           0.0        0.000388  "
      ]
     },
     "execution_count": 16,
     "metadata": {},
     "output_type": "execute_result"
    }
   ],
   "source": [
    "andh_df.head()"
   ]
  },
  {
   "cell_type": "code",
   "execution_count": 17,
   "metadata": {},
   "outputs": [
    {
     "data": {
      "text/plain": [
       "<Axes: >"
      ]
     },
     "execution_count": 17,
     "metadata": {},
     "output_type": "execute_result"
    },
    {
     "data": {
      "image/png": "[encoded data removed]",
      "text/plain": [
       "<Figure size 640x480 with 1 Axes>"
      ]
     },
     "metadata": {},
     "output_type": "display_data"
    }
   ],
   "source": [
    "andh_df[\"likes\"].plot()"
   ]
  },
  {
   "cell_type": "code",
   "execution_count": 46,
   "metadata": {},
   "outputs": [
    {
     "name": "stdout",
     "output_type": "stream",
     "text": [
      "file: 1coviddetoxify0.5.csv\n",
      "0\n",
      "\n",
      "file: Andhbhaktafterdetoxify.csv\n",
      "14\n",
      "\n",
      "file: GobackModifinallabels1.csv\n",
      "0\n",
      "\n",
      "file: Gyanvapiafterdetoxifyandcorrectedlabels.csv\n",
      "5\n",
      "\n",
      "file: indianmusafterdetoxify-1.csv\n",
      "0\n",
      "\n",
      "file: indianmusafterdetoxify.csv\n",
      "1\n",
      "\n"
     ]
    }
   ],
   "source": [
    "for file in FILES:\n",
    "    print(f\"file: {file}\")\n",
    "    df = pd.read_csv(f\"{DATA_DIR}/{file}\")[\"text\"].map(lambda x: len(x.split()))\n",
    "    # df = df.sort_values().tail()\n",
    "    # print(df.mean())\n",
    "    print(len(df[df > 80]), end=\"\\n\\n\")"
   ]
  },
  {
   "cell_type": "code",
   "execution_count": 9,
   "metadata": {},
   "outputs": [
    {
     "data": {
      "text/plain": [
       "'/Users/naman/Desktop/Code/Projects/ToxicityAnalysis/Naman-work'"
      ]
     },
     "execution_count": 9,
     "metadata": {},
     "output_type": "execute_result"
    }
   ],
   "source": [
    "os.getcwd()"
   ]
  },
  {
   "cell_type": "code",
   "execution_count": null,
   "metadata": {},
   "outputs": [],
   "source": []
  }
 ],
 "metadata": {
  "kernelspec": {
   "display_name": "thesis-data",
   "language": "python",
   "name": "python3"
  },
  "language_info": {
   "codemirror_mode": {
    "name": "ipython",
    "version": 3
   },
   "file_extension": ".py",
   "mimetype": "text/x-python",
   "name": "python",
   "nbconvert_exporter": "python",
   "pygments_lexer": "ipython3",
   "version": "3.10.10"
  }
 },
 "nbformat": 4,
 "nbformat_minor": 2
}
